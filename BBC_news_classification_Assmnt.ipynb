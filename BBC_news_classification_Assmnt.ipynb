{
  "nbformat": 4,
  "nbformat_minor": 0,
  "metadata": {
    "colab": {
      "provenance": [],
      "collapsed_sections": []
    },
    "kernelspec": {
      "name": "python3",
      "display_name": "Python 3"
    },
    "language_info": {
      "name": "python"
    }
  },
  "cells": [
    {
      "cell_type": "code",
      "execution_count": 6,
      "metadata": {
        "id": "3qv2p4CZsWL_"
      },
      "outputs": [],
      "source": [
        "import pandas as pd \n",
        "import numpy as np"
      ]
    },
    {
      "cell_type": "markdown",
      "source": [
        "Read Data"
      ],
      "metadata": {
        "id": "OIjp9iwyI5s3"
      }
    },
    {
      "cell_type": "code",
      "source": [
        "df=pd.read_csv('/content/BBC News.csv')\n",
        "df.head()"
      ],
      "metadata": {
        "colab": {
          "base_uri": "https://localhost:8080/",
          "height": 206
        },
        "id": "Hl-tJmtLtD58",
        "outputId": "6321de23-a8ea-4d70-cb69-8a7cb51997ab"
      },
      "execution_count": 41,
      "outputs": [
        {
          "output_type": "execute_result",
          "data": {
            "text/plain": [
              "   ArticleId                                               Text  Category\n",
              "0       1833  worldcom ex-boss launches defence lawyers defe...  business\n",
              "1        154  german business confidence slides german busin...  business\n",
              "2       1101  bbc poll indicates economic gloom citizens in ...  business\n",
              "3       1976  lifestyle  governs mobile choice  faster  bett...      tech\n",
              "4        917  enron bosses in $168m payout eighteen former e...  business"
            ],
            "text/html": [
              "\n",
              "  <div id=\"df-f77a703d-c1da-4f12-af38-f9ef5936a9b1\">\n",
              "    <div class=\"colab-df-container\">\n",
              "      <div>\n",
              "<style scoped>\n",
              "    .dataframe tbody tr th:only-of-type {\n",
              "        vertical-align: middle;\n",
              "    }\n",
              "\n",
              "    .dataframe tbody tr th {\n",
              "        vertical-align: top;\n",
              "    }\n",
              "\n",
              "    .dataframe thead th {\n",
              "        text-align: right;\n",
              "    }\n",
              "</style>\n",
              "<table border=\"1\" class=\"dataframe\">\n",
              "  <thead>\n",
              "    <tr style=\"text-align: right;\">\n",
              "      <th></th>\n",
              "      <th>ArticleId</th>\n",
              "      <th>Text</th>\n",
              "      <th>Category</th>\n",
              "    </tr>\n",
              "  </thead>\n",
              "  <tbody>\n",
              "    <tr>\n",
              "      <th>0</th>\n",
              "      <td>1833</td>\n",
              "      <td>worldcom ex-boss launches defence lawyers defe...</td>\n",
              "      <td>business</td>\n",
              "    </tr>\n",
              "    <tr>\n",
              "      <th>1</th>\n",
              "      <td>154</td>\n",
              "      <td>german business confidence slides german busin...</td>\n",
              "      <td>business</td>\n",
              "    </tr>\n",
              "    <tr>\n",
              "      <th>2</th>\n",
              "      <td>1101</td>\n",
              "      <td>bbc poll indicates economic gloom citizens in ...</td>\n",
              "      <td>business</td>\n",
              "    </tr>\n",
              "    <tr>\n",
              "      <th>3</th>\n",
              "      <td>1976</td>\n",
              "      <td>lifestyle  governs mobile choice  faster  bett...</td>\n",
              "      <td>tech</td>\n",
              "    </tr>\n",
              "    <tr>\n",
              "      <th>4</th>\n",
              "      <td>917</td>\n",
              "      <td>enron bosses in $168m payout eighteen former e...</td>\n",
              "      <td>business</td>\n",
              "    </tr>\n",
              "  </tbody>\n",
              "</table>\n",
              "</div>\n",
              "      <button class=\"colab-df-convert\" onclick=\"convertToInteractive('df-f77a703d-c1da-4f12-af38-f9ef5936a9b1')\"\n",
              "              title=\"Convert this dataframe to an interactive table.\"\n",
              "              style=\"display:none;\">\n",
              "        \n",
              "  <svg xmlns=\"http://www.w3.org/2000/svg\" height=\"24px\"viewBox=\"0 0 24 24\"\n",
              "       width=\"24px\">\n",
              "    <path d=\"M0 0h24v24H0V0z\" fill=\"none\"/>\n",
              "    <path d=\"M18.56 5.44l.94 2.06.94-2.06 2.06-.94-2.06-.94-.94-2.06-.94 2.06-2.06.94zm-11 1L8.5 8.5l.94-2.06 2.06-.94-2.06-.94L8.5 2.5l-.94 2.06-2.06.94zm10 10l.94 2.06.94-2.06 2.06-.94-2.06-.94-.94-2.06-.94 2.06-2.06.94z\"/><path d=\"M17.41 7.96l-1.37-1.37c-.4-.4-.92-.59-1.43-.59-.52 0-1.04.2-1.43.59L10.3 9.45l-7.72 7.72c-.78.78-.78 2.05 0 2.83L4 21.41c.39.39.9.59 1.41.59.51 0 1.02-.2 1.41-.59l7.78-7.78 2.81-2.81c.8-.78.8-2.07 0-2.86zM5.41 20L4 18.59l7.72-7.72 1.47 1.35L5.41 20z\"/>\n",
              "  </svg>\n",
              "      </button>\n",
              "      \n",
              "  <style>\n",
              "    .colab-df-container {\n",
              "      display:flex;\n",
              "      flex-wrap:wrap;\n",
              "      gap: 12px;\n",
              "    }\n",
              "\n",
              "    .colab-df-convert {\n",
              "      background-color: #E8F0FE;\n",
              "      border: none;\n",
              "      border-radius: 50%;\n",
              "      cursor: pointer;\n",
              "      display: none;\n",
              "      fill: #1967D2;\n",
              "      height: 32px;\n",
              "      padding: 0 0 0 0;\n",
              "      width: 32px;\n",
              "    }\n",
              "\n",
              "    .colab-df-convert:hover {\n",
              "      background-color: #E2EBFA;\n",
              "      box-shadow: 0px 1px 2px rgba(60, 64, 67, 0.3), 0px 1px 3px 1px rgba(60, 64, 67, 0.15);\n",
              "      fill: #174EA6;\n",
              "    }\n",
              "\n",
              "    [theme=dark] .colab-df-convert {\n",
              "      background-color: #3B4455;\n",
              "      fill: #D2E3FC;\n",
              "    }\n",
              "\n",
              "    [theme=dark] .colab-df-convert:hover {\n",
              "      background-color: #434B5C;\n",
              "      box-shadow: 0px 1px 3px 1px rgba(0, 0, 0, 0.15);\n",
              "      filter: drop-shadow(0px 1px 2px rgba(0, 0, 0, 0.3));\n",
              "      fill: #FFFFFF;\n",
              "    }\n",
              "  </style>\n",
              "\n",
              "      <script>\n",
              "        const buttonEl =\n",
              "          document.querySelector('#df-f77a703d-c1da-4f12-af38-f9ef5936a9b1 button.colab-df-convert');\n",
              "        buttonEl.style.display =\n",
              "          google.colab.kernel.accessAllowed ? 'block' : 'none';\n",
              "\n",
              "        async function convertToInteractive(key) {\n",
              "          const element = document.querySelector('#df-f77a703d-c1da-4f12-af38-f9ef5936a9b1');\n",
              "          const dataTable =\n",
              "            await google.colab.kernel.invokeFunction('convertToInteractive',\n",
              "                                                     [key], {});\n",
              "          if (!dataTable) return;\n",
              "\n",
              "          const docLinkHtml = 'Like what you see? Visit the ' +\n",
              "            '<a target=\"_blank\" href=https://colab.research.google.com/notebooks/data_table.ipynb>data table notebook</a>'\n",
              "            + ' to learn more about interactive tables.';\n",
              "          element.innerHTML = '';\n",
              "          dataTable['output_type'] = 'display_data';\n",
              "          await google.colab.output.renderOutput(dataTable, element);\n",
              "          const docLink = document.createElement('div');\n",
              "          docLink.innerHTML = docLinkHtml;\n",
              "          element.appendChild(docLink);\n",
              "        }\n",
              "      </script>\n",
              "    </div>\n",
              "  </div>\n",
              "  "
            ]
          },
          "metadata": {},
          "execution_count": 41
        }
      ]
    },
    {
      "cell_type": "code",
      "source": [
        "df.shape"
      ],
      "metadata": {
        "colab": {
          "base_uri": "https://localhost:8080/"
        },
        "id": "ILeaVKrgtJui",
        "outputId": "abf07bde-72c8-4d2f-b37b-cdf47394b267"
      },
      "execution_count": 42,
      "outputs": [
        {
          "output_type": "execute_result",
          "data": {
            "text/plain": [
              "(1490, 3)"
            ]
          },
          "metadata": {},
          "execution_count": 42
        }
      ]
    },
    {
      "cell_type": "markdown",
      "source": [
        "Verifying null values"
      ],
      "metadata": {
        "id": "0-hXlcxCI9q4"
      }
    },
    {
      "cell_type": "code",
      "source": [
        "df.info()"
      ],
      "metadata": {
        "colab": {
          "base_uri": "https://localhost:8080/"
        },
        "id": "3mg8g5ZwtN4q",
        "outputId": "b339f868-db56-48d8-a9ce-f059be4558cb"
      },
      "execution_count": 43,
      "outputs": [
        {
          "output_type": "stream",
          "name": "stdout",
          "text": [
            "<class 'pandas.core.frame.DataFrame'>\n",
            "RangeIndex: 1490 entries, 0 to 1489\n",
            "Data columns (total 3 columns):\n",
            " #   Column     Non-Null Count  Dtype \n",
            "---  ------     --------------  ----- \n",
            " 0   ArticleId  1490 non-null   int64 \n",
            " 1   Text       1490 non-null   object\n",
            " 2   Category   1490 non-null   object\n",
            "dtypes: int64(1), object(2)\n",
            "memory usage: 35.0+ KB\n"
          ]
        }
      ]
    },
    {
      "cell_type": "code",
      "source": [
        "import matplotlib.pyplot as plt\n",
        "import seaborn as sns"
      ],
      "metadata": {
        "id": "2kJ9e9mztRkc"
      },
      "execution_count": 44,
      "outputs": []
    },
    {
      "cell_type": "markdown",
      "source": [
        "#understanding the output class distribution\n",
        "the classes are almost balanced"
      ],
      "metadata": {
        "id": "dKWaXIilJBlO"
      }
    },
    {
      "cell_type": "code",
      "source": [
        "sns.countplot(df['Category'])"
      ],
      "metadata": {
        "colab": {
          "base_uri": "https://localhost:8080/",
          "height": 351
        },
        "id": "zO9gu3OItpFu",
        "outputId": "4728a287-85cb-460d-f4d5-e073cc0f4cfd"
      },
      "execution_count": 45,
      "outputs": [
        {
          "output_type": "stream",
          "name": "stderr",
          "text": [
            "/usr/local/lib/python3.7/dist-packages/seaborn/_decorators.py:43: FutureWarning: Pass the following variable as a keyword arg: x. From version 0.12, the only valid positional argument will be `data`, and passing other arguments without an explicit keyword will result in an error or misinterpretation.\n",
            "  FutureWarning\n"
          ]
        },
        {
          "output_type": "execute_result",
          "data": {
            "text/plain": [
              "<matplotlib.axes._subplots.AxesSubplot at 0x7f7430e62710>"
            ]
          },
          "metadata": {},
          "execution_count": 45
        },
        {
          "output_type": "display_data",
          "data": {
            "text/plain": [
              "<Figure size 432x288 with 1 Axes>"
            ],
            "image/png": "[encoded data removed]"
          },
          "metadata": {
            "needs_background": "light"
          }
        }
      ]
    },
    {
      "cell_type": "markdown",
      "source": [
        "importing libraries"
      ],
      "metadata": {
        "id": "jkySbBaOJPlY"
      }
    },
    {
      "cell_type": "code",
      "source": [
        "from nltk.stem.porter import PorterStemmer\n",
        "from keras_preprocessing.sequence import pad_sequences\n",
        "from keras.layers import Dense, Embedding, LSTM, SpatialDropout1D\n",
        "from keras.models import Sequential\n",
        "from sklearn.feature_extraction.text import CountVectorizer\n",
        "from keras.preprocessing.text import Tokenizer\n",
        "from sklearn.model_selection import train_test_split\n",
        "from keras.utils.np_utils import to_categorical\n",
        "from keras.callbacks import EarlyStopping"
      ],
      "metadata": {
        "id": "1_lz5eJxt4KG"
      },
      "execution_count": 46,
      "outputs": []
    },
    {
      "cell_type": "markdown",
      "source": [
        "tokenising the news data and zero padding to the fixed size "
      ],
      "metadata": {
        "id": "3ouS6pAvJUjN"
      }
    },
    {
      "cell_type": "code",
      "source": [
        "n_most_common_words = 8000\n",
        "max_len = 130\n",
        "tokenizer = Tokenizer(num_words=n_most_common_words, filters='!\"#$%&()*+,-./:;<=>?@[\\]^_`{|}~', lower=True)\n",
        "tokenizer.fit_on_texts(df['Text'].values)\n",
        "sequences = tokenizer.texts_to_sequences(df['Text'].values)\n",
        "word_index = tokenizer.word_index\n",
        "print('Found %s unique tokens.' % len(word_index))\n",
        "\n",
        "X = pad_sequences(sequences, maxlen=max_len)"
      ],
      "metadata": {
        "colab": {
          "base_uri": "https://localhost:8080/"
        },
        "id": "92hiVZE5QvGF",
        "outputId": "ae4c1eae-420f-4ed6-8474-a6814c8c9ad1"
      },
      "execution_count": 47,
      "outputs": [
        {
          "output_type": "stream",
          "name": "stdout",
          "text": [
            "Found 24983 unique tokens.\n"
          ]
        }
      ]
    },
    {
      "cell_type": "markdown",
      "source": [
        "verifying th tokenised output and zero padding "
      ],
      "metadata": {
        "id": "NuC4QfBBJgpk"
      }
    },
    {
      "cell_type": "code",
      "source": [
        "print(len(sequences))\n",
        "print(len(sequences[0]))\n",
        "print(len(X))\n",
        "print(len(X[0]))"
      ],
      "metadata": {
        "colab": {
          "base_uri": "https://localhost:8080/"
        },
        "id": "dSQwRq6uVvjr",
        "outputId": "0c0a99a5-0c4f-4f15-dd08-1d3545d140ea"
      },
      "execution_count": 73,
      "outputs": [
        {
          "output_type": "stream",
          "name": "stdout",
          "text": [
            "1490\n",
            "292\n",
            "1490\n",
            "130\n"
          ]
        }
      ]
    },
    {
      "cell_type": "markdown",
      "source": [
        "label Encoding the output column"
      ],
      "metadata": {
        "id": "MMYI5xmyJppc"
      }
    },
    {
      "cell_type": "code",
      "source": [
        "from sklearn import preprocessing\n",
        "label_encoder = preprocessing.LabelEncoder()\n",
        "lables= label_encoder.fit_transform(df['Category'])"
      ],
      "metadata": {
        "id": "wTqE_QBfYAfh"
      },
      "execution_count": 51,
      "outputs": []
    },
    {
      "cell_type": "code",
      "source": [
        "lables"
      ],
      "metadata": {
        "colab": {
          "base_uri": "https://localhost:8080/"
        },
        "id": "BwmUVkkvEHr0",
        "outputId": "ff798b38-d707-4063-d984-a7d81a197224"
      },
      "execution_count": 52,
      "outputs": [
        {
          "output_type": "execute_result",
          "data": {
            "text/plain": [
              "array([0, 0, 0, ..., 0, 4, 4])"
            ]
          },
          "metadata": {},
          "execution_count": 52
        }
      ]
    },
    {
      "cell_type": "markdown",
      "source": [
        "creating the output column to 5 dimesional vector"
      ],
      "metadata": {
        "id": "wTxwJqC8Jz9s"
      }
    },
    {
      "cell_type": "code",
      "source": [
        "labels = to_categorical(lables, num_classes=5)"
      ],
      "metadata": {
        "id": "jDWlntxnDiXf"
      },
      "execution_count": 54,
      "outputs": []
    },
    {
      "cell_type": "code",
      "source": [
        "labels"
      ],
      "metadata": {
        "colab": {
          "base_uri": "https://localhost:8080/"
        },
        "id": "ZhMflAaCERN0",
        "outputId": "d03c3b74-9068-4120-d0f2-4f9a0d0ac25b"
      },
      "execution_count": 55,
      "outputs": [
        {
          "output_type": "execute_result",
          "data": {
            "text/plain": [
              "array([[1., 0., 0., 0., 0.],\n",
              "       [1., 0., 0., 0., 0.],\n",
              "       [1., 0., 0., 0., 0.],\n",
              "       ...,\n",
              "       [1., 0., 0., 0., 0.],\n",
              "       [0., 0., 0., 0., 1.],\n",
              "       [0., 0., 0., 0., 1.]], dtype=float32)"
            ]
          },
          "metadata": {},
          "execution_count": 55
        }
      ]
    },
    {
      "cell_type": "markdown",
      "source": [
        "splitting data to train and test for proper evaluaton"
      ],
      "metadata": {
        "id": "ieLGe-T5J7Js"
      }
    },
    {
      "cell_type": "code",
      "source": [
        "X_train, X_test, y_train, y_test = train_test_split(X , labels, test_size=0.25, random_state=42)"
      ],
      "metadata": {
        "id": "m7kySmwPbqyj"
      },
      "execution_count": 56,
      "outputs": []
    },
    {
      "cell_type": "markdown",
      "source": [
        "verifying the split"
      ],
      "metadata": {
        "id": "Hg-zUBYpKB2D"
      }
    },
    {
      "cell_type": "code",
      "source": [
        "print((X_train.shape, y_train.shape, X_test.shape, y_test.shape))"
      ],
      "metadata": {
        "colab": {
          "base_uri": "https://localhost:8080/"
        },
        "id": "82iA55zwcSEp",
        "outputId": "c6e9d5d8-fb8c-48de-b82b-c96cb54d40e3"
      },
      "execution_count": 57,
      "outputs": [
        {
          "output_type": "stream",
          "name": "stdout",
          "text": [
            "((1117, 130), (1117, 5), (373, 130), (373, 5))\n"
          ]
        }
      ]
    },
    {
      "cell_type": "markdown",
      "source": [
        "defining the training paramters"
      ],
      "metadata": {
        "id": "QNxs0REHKE1r"
      }
    },
    {
      "cell_type": "code",
      "source": [
        "epochs = 50\n",
        "emb_dim = 128\n",
        "batch_size = 64"
      ],
      "metadata": {
        "id": "6Es1Lrd9cr9d"
      },
      "execution_count": 58,
      "outputs": []
    },
    {
      "cell_type": "markdown",
      "source": [
        "creating the model"
      ],
      "metadata": {
        "id": "MiW9f0naKJMz"
      }
    },
    {
      "cell_type": "code",
      "source": [
        "model = Sequential()\n",
        "model.add(Embedding(n_most_common_words, emb_dim, input_length=X.shape[1]))\n",
        "model.add(SpatialDropout1D(0.7))\n",
        "model.add(LSTM(64, dropout=0.7, recurrent_dropout=0.7))\n",
        "model.add(Dense(5, activation='softmax'))"
      ],
      "metadata": {
        "id": "3AuqU81vcYVt"
      },
      "execution_count": 59,
      "outputs": []
    },
    {
      "cell_type": "code",
      "source": [
        "model.compile(optimizer='adam', loss='categorical_crossentropy', metrics=['acc'])\n",
        "print(model.summary())"
      ],
      "metadata": {
        "colab": {
          "base_uri": "https://localhost:8080/"
        },
        "id": "KM10kjxhcvoN",
        "outputId": "dc8be0d4-5b6d-4bc3-febd-835b68d1b552"
      },
      "execution_count": 60,
      "outputs": [
        {
          "output_type": "stream",
          "name": "stdout",
          "text": [
            "Model: \"sequential_1\"\n",
            "_________________________________________________________________\n",
            " Layer (type)                Output Shape              Param #   \n",
            "=================================================================\n",
            " embedding_1 (Embedding)     (None, 130, 128)          1024000   \n",
            "                                                                 \n",
            " spatial_dropout1d_1 (Spatia  (None, 130, 128)         0         \n",
            " lDropout1D)                                                     \n",
            "                                                                 \n",
            " lstm_1 (LSTM)               (None, 64)                49408     \n",
            "                                                                 \n",
            " dense_1 (Dense)             (None, 5)                 325       \n",
            "                                                                 \n",
            "=================================================================\n",
            "Total params: 1,073,733\n",
            "Trainable params: 1,073,733\n",
            "Non-trainable params: 0\n",
            "_________________________________________________________________\n",
            "None\n"
          ]
        }
      ]
    },
    {
      "cell_type": "markdown",
      "source": [
        "training the model"
      ],
      "metadata": {
        "id": "hbvcl9lGKL5D"
      }
    },
    {
      "cell_type": "code",
      "source": [
        "history = model.fit(X_train, y_train, epochs=epochs, batch_size=batch_size,validation_split=0.2)"
      ],
      "metadata": {
        "colab": {
          "base_uri": "https://localhost:8080/"
        },
        "id": "Kyj6FhJEeW_K",
        "outputId": "145264eb-a352-4601-9b52-df33986de2a7"
      },
      "execution_count": 61,
      "outputs": [
        {
          "output_type": "stream",
          "name": "stdout",
          "text": [
            "Epoch 1/50\n",
            "14/14 [==============================] - 9s 411ms/step - loss: 1.6091 - acc: 0.2161 - val_loss: 1.6037 - val_acc: 0.2411\n",
            "Epoch 2/50\n",
            "14/14 [==============================] - 5s 339ms/step - loss: 1.5990 - acc: 0.2632 - val_loss: 1.5981 - val_acc: 0.2589\n",
            "Epoch 3/50\n",
            "14/14 [==============================] - 5s 344ms/step - loss: 1.5917 - acc: 0.2990 - val_loss: 1.5901 - val_acc: 0.2723\n",
            "Epoch 4/50\n",
            "14/14 [==============================] - 5s 327ms/step - loss: 1.5739 - acc: 0.3046 - val_loss: 1.5688 - val_acc: 0.2411\n",
            "Epoch 5/50\n",
            "14/14 [==============================] - 5s 325ms/step - loss: 1.5222 - acc: 0.3225 - val_loss: 1.5252 - val_acc: 0.3214\n",
            "Epoch 6/50\n",
            "14/14 [==============================] - 5s 330ms/step - loss: 1.3472 - acc: 0.4345 - val_loss: 1.2334 - val_acc: 0.4330\n",
            "Epoch 7/50\n",
            "14/14 [==============================] - 5s 325ms/step - loss: 1.2169 - acc: 0.4401 - val_loss: 1.0964 - val_acc: 0.4598\n",
            "Epoch 8/50\n",
            "14/14 [==============================] - 5s 336ms/step - loss: 1.0937 - acc: 0.4838 - val_loss: 1.0724 - val_acc: 0.4777\n",
            "Epoch 9/50\n",
            "14/14 [==============================] - 5s 336ms/step - loss: 1.0410 - acc: 0.5487 - val_loss: 1.1136 - val_acc: 0.4777\n",
            "Epoch 10/50\n",
            "14/14 [==============================] - 5s 332ms/step - loss: 0.9929 - acc: 0.5812 - val_loss: 0.9685 - val_acc: 0.5357\n",
            "Epoch 11/50\n",
            "14/14 [==============================] - 5s 328ms/step - loss: 0.8536 - acc: 0.6764 - val_loss: 0.8193 - val_acc: 0.6830\n",
            "Epoch 12/50\n",
            "14/14 [==============================] - 5s 333ms/step - loss: 0.7576 - acc: 0.7144 - val_loss: 0.7553 - val_acc: 0.7321\n",
            "Epoch 13/50\n",
            "14/14 [==============================] - 5s 331ms/step - loss: 0.6333 - acc: 0.7816 - val_loss: 0.7684 - val_acc: 0.6920\n",
            "Epoch 14/50\n",
            "14/14 [==============================] - 5s 333ms/step - loss: 0.5887 - acc: 0.8108 - val_loss: 0.6610 - val_acc: 0.7589\n",
            "Epoch 15/50\n",
            "14/14 [==============================] - 5s 352ms/step - loss: 0.4654 - acc: 0.8555 - val_loss: 0.6204 - val_acc: 0.8259\n",
            "Epoch 16/50\n",
            "14/14 [==============================] - 6s 423ms/step - loss: 0.4779 - acc: 0.8511 - val_loss: 0.4795 - val_acc: 0.8527\n",
            "Epoch 17/50\n",
            "14/14 [==============================] - 5s 328ms/step - loss: 0.3812 - acc: 0.8903 - val_loss: 0.5528 - val_acc: 0.8080\n",
            "Epoch 18/50\n",
            "14/14 [==============================] - 5s 332ms/step - loss: 0.3597 - acc: 0.8970 - val_loss: 0.5141 - val_acc: 0.7902\n",
            "Epoch 19/50\n",
            "14/14 [==============================] - 5s 332ms/step - loss: 0.2875 - acc: 0.9227 - val_loss: 0.4695 - val_acc: 0.8750\n",
            "Epoch 20/50\n",
            "14/14 [==============================] - 6s 473ms/step - loss: 0.2176 - acc: 0.9440 - val_loss: 0.4176 - val_acc: 0.8884\n",
            "Epoch 21/50\n",
            "14/14 [==============================] - 5s 330ms/step - loss: 0.2281 - acc: 0.9295 - val_loss: 0.4631 - val_acc: 0.8795\n",
            "Epoch 22/50\n",
            "14/14 [==============================] - 5s 328ms/step - loss: 0.1689 - acc: 0.9619 - val_loss: 0.4949 - val_acc: 0.8616\n",
            "Epoch 23/50\n",
            "14/14 [==============================] - 5s 329ms/step - loss: 0.1432 - acc: 0.9642 - val_loss: 0.5704 - val_acc: 0.8482\n",
            "Epoch 24/50\n",
            "14/14 [==============================] - 5s 330ms/step - loss: 0.1664 - acc: 0.9619 - val_loss: 0.5063 - val_acc: 0.8705\n",
            "Epoch 25/50\n",
            "14/14 [==============================] - 5s 330ms/step - loss: 0.1536 - acc: 0.9597 - val_loss: 0.4837 - val_acc: 0.8438\n",
            "Epoch 26/50\n",
            "14/14 [==============================] - 5s 329ms/step - loss: 0.1462 - acc: 0.9574 - val_loss: 0.3797 - val_acc: 0.9062\n",
            "Epoch 27/50\n",
            "14/14 [==============================] - 5s 328ms/step - loss: 0.1494 - acc: 0.9675 - val_loss: 0.5158 - val_acc: 0.8705\n",
            "Epoch 28/50\n",
            "14/14 [==============================] - 5s 333ms/step - loss: 0.0957 - acc: 0.9787 - val_loss: 0.4089 - val_acc: 0.9018\n",
            "Epoch 29/50\n",
            "14/14 [==============================] - 5s 328ms/step - loss: 0.0933 - acc: 0.9798 - val_loss: 0.3889 - val_acc: 0.8973\n",
            "Epoch 30/50\n",
            "14/14 [==============================] - 5s 338ms/step - loss: 0.0994 - acc: 0.9776 - val_loss: 0.3449 - val_acc: 0.9062\n",
            "Epoch 31/50\n",
            "14/14 [==============================] - 5s 331ms/step - loss: 0.0739 - acc: 0.9787 - val_loss: 0.4125 - val_acc: 0.9107\n",
            "Epoch 32/50\n",
            "14/14 [==============================] - 5s 330ms/step - loss: 0.1052 - acc: 0.9742 - val_loss: 0.4211 - val_acc: 0.9152\n",
            "Epoch 33/50\n",
            "14/14 [==============================] - 5s 324ms/step - loss: 0.0646 - acc: 0.9877 - val_loss: 0.3356 - val_acc: 0.9196\n",
            "Epoch 34/50\n",
            "14/14 [==============================] - 5s 328ms/step - loss: 0.0625 - acc: 0.9854 - val_loss: 0.4134 - val_acc: 0.9241\n",
            "Epoch 35/50\n",
            "14/14 [==============================] - 5s 333ms/step - loss: 0.0610 - acc: 0.9888 - val_loss: 0.4170 - val_acc: 0.9062\n",
            "Epoch 36/50\n",
            "14/14 [==============================] - 5s 327ms/step - loss: 0.0468 - acc: 0.9933 - val_loss: 0.4394 - val_acc: 0.8973\n",
            "Epoch 37/50\n",
            "14/14 [==============================] - 5s 326ms/step - loss: 0.0352 - acc: 0.9955 - val_loss: 0.4760 - val_acc: 0.8973\n",
            "Epoch 38/50\n",
            "14/14 [==============================] - 5s 323ms/step - loss: 0.0670 - acc: 0.9843 - val_loss: 0.3681 - val_acc: 0.9196\n",
            "Epoch 39/50\n",
            "14/14 [==============================] - 5s 330ms/step - loss: 0.0581 - acc: 0.9899 - val_loss: 0.3346 - val_acc: 0.9196\n",
            "Epoch 40/50\n",
            "14/14 [==============================] - 5s 328ms/step - loss: 0.0543 - acc: 0.9922 - val_loss: 0.3796 - val_acc: 0.9152\n",
            "Epoch 41/50\n",
            "14/14 [==============================] - 5s 327ms/step - loss: 0.0681 - acc: 0.9843 - val_loss: 0.3091 - val_acc: 0.9196\n",
            "Epoch 42/50\n",
            "14/14 [==============================] - 5s 330ms/step - loss: 0.0419 - acc: 0.9910 - val_loss: 0.4792 - val_acc: 0.9107\n",
            "Epoch 43/50\n",
            "14/14 [==============================] - 5s 329ms/step - loss: 0.0410 - acc: 0.9888 - val_loss: 0.2766 - val_acc: 0.9330\n",
            "Epoch 44/50\n",
            "14/14 [==============================] - 5s 335ms/step - loss: 0.1159 - acc: 0.9642 - val_loss: 0.5286 - val_acc: 0.8929\n",
            "Epoch 45/50\n",
            "14/14 [==============================] - 5s 327ms/step - loss: 0.0904 - acc: 0.9843 - val_loss: 0.2912 - val_acc: 0.9152\n",
            "Epoch 46/50\n",
            "14/14 [==============================] - 5s 329ms/step - loss: 0.0625 - acc: 0.9866 - val_loss: 0.3397 - val_acc: 0.9196\n",
            "Epoch 47/50\n",
            "14/14 [==============================] - 5s 334ms/step - loss: 0.0366 - acc: 0.9888 - val_loss: 0.5524 - val_acc: 0.9018\n",
            "Epoch 48/50\n",
            "14/14 [==============================] - 5s 334ms/step - loss: 0.0350 - acc: 0.9922 - val_loss: 0.3906 - val_acc: 0.9196\n",
            "Epoch 49/50\n",
            "14/14 [==============================] - 5s 326ms/step - loss: 0.0403 - acc: 0.9910 - val_loss: 0.4762 - val_acc: 0.8839\n",
            "Epoch 50/50\n",
            "14/14 [==============================] - 5s 328ms/step - loss: 0.0274 - acc: 0.9944 - val_loss: 0.4344 - val_acc: 0.9152\n"
          ]
        }
      ]
    },
    {
      "cell_type": "markdown",
      "source": [
        "evaluating the model on test data"
      ],
      "metadata": {
        "id": "lbtQ1Q67KPv7"
      }
    },
    {
      "cell_type": "code",
      "source": [
        "accr = model.evaluate(X_test,y_test)\n",
        "print('Test set\\n  Loss: {:0.3f}\\n  Accuracy: {:0.3f}'.format(accr[0],accr[1]))"
      ],
      "metadata": {
        "colab": {
          "base_uri": "https://localhost:8080/"
        },
        "id": "Wv_FuSZngyyI",
        "outputId": "e2f6133e-b876-4e46-89d5-d52fb44674de"
      },
      "execution_count": 62,
      "outputs": [
        {
          "output_type": "stream",
          "name": "stdout",
          "text": [
            "12/12 [==============================] - 1s 46ms/step - loss: 0.4588 - acc: 0.9196\n",
            "Test set\n",
            "  Loss: 0.459\n",
            "  Accuracy: 0.920\n"
          ]
        }
      ]
    },
    {
      "cell_type": "code",
      "source": [
        "pred = model.predict(X_test)"
      ],
      "metadata": {
        "colab": {
          "base_uri": "https://localhost:8080/"
        },
        "id": "Dt0LoyH6FmhH",
        "outputId": "4748fca5-75d0-4ac3-b891-f039ae673931"
      },
      "execution_count": 63,
      "outputs": [
        {
          "output_type": "stream",
          "name": "stdout",
          "text": [
            "12/12 [==============================] - 1s 58ms/step\n"
          ]
        }
      ]
    },
    {
      "cell_type": "markdown",
      "source": [
        "converting the output data back to one dimension"
      ],
      "metadata": {
        "id": "cb_ZO-8MKVfh"
      }
    },
    {
      "cell_type": "code",
      "source": [
        "pred_cat = np.argmax(pred, axis=-1)\n",
        "test_cat = np.argmax(y_test, axis=-1)"
      ],
      "metadata": {
        "id": "hLr_udoDHg39"
      },
      "execution_count": 70,
      "outputs": []
    },
    {
      "cell_type": "markdown",
      "source": [
        "Comparing the visualisation of both of the test and train data"
      ],
      "metadata": {
        "id": "uGGnKChJKbLq"
      }
    },
    {
      "cell_type": "code",
      "source": [
        "plt.subplot(1,2,1)\n",
        "sns.countplot(pred_cat)\n",
        "plt.subplot(1,2,2)\n",
        "sns.countplot(test_cat)"
      ],
      "metadata": {
        "colab": {
          "base_uri": "https://localhost:8080/",
          "height": 372
        },
        "id": "3BC8ypa1HnK4",
        "outputId": "210d809e-c2c8-4aa9-b8fb-6c9d4f0842e1"
      },
      "execution_count": 72,
      "outputs": [
        {
          "output_type": "stream",
          "name": "stderr",
          "text": [
            "/usr/local/lib/python3.7/dist-packages/seaborn/_decorators.py:43: FutureWarning: Pass the following variable as a keyword arg: x. From version 0.12, the only valid positional argument will be `data`, and passing other arguments without an explicit keyword will result in an error or misinterpretation.\n",
            "  FutureWarning\n",
            "/usr/local/lib/python3.7/dist-packages/seaborn/_decorators.py:43: FutureWarning: Pass the following variable as a keyword arg: x. From version 0.12, the only valid positional argument will be `data`, and passing other arguments without an explicit keyword will result in an error or misinterpretation.\n",
            "  FutureWarning\n"
          ]
        },
        {
          "output_type": "execute_result",
          "data": {
            "text/plain": [
              "<matplotlib.axes._subplots.AxesSubplot at 0x7f742fb39c50>"
            ]
          },
          "metadata": {},
          "execution_count": 72
        },
        {
          "output_type": "display_data",
          "data": {
            "text/plain": [
              "<Figure size 432x288 with 2 Axes>"
            ],
            "image/png": "[encoded data removed]"
          },
          "metadata": {
            "needs_background": "light"
          }
        }
      ]
    },
    {
      "cell_type": "code",
      "source": [],
      "metadata": {
        "id": "dy61z2IIIa0w"
      },
      "execution_count": null,
      "outputs": []
    }
  ]
}